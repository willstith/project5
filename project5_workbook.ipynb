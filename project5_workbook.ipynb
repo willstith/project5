{
 "cells": [
  {
   "cell_type": "markdown",
   "metadata": {},
   "source": [
    "# Imports"
   ]
  },
  {
   "cell_type": "code",
   "execution_count": 1,
   "metadata": {},
   "outputs": [],
   "source": [
    "import pandas as pd\n",
    "import numpy as np\n",
    "import seaborn as sns\n",
    "sns.set_style('dark')\n",
    "import matplotlib.pyplot as plt\n",
    "#import re\n",
    "import os\n",
    "import pickle\n",
    "from collections import defaultdict\n",
    "from keras.utils import np_utils, to_categorical\n",
    "\n",
    "import keras\n",
    "from keras.models import Model, Sequential\n",
    "from keras.layers import Dense, Conv2D, MaxPooling2D, Flatten, GlobalAveragePooling2D, InputLayer\n",
    "from keras.applications import mobilenet_v2\n",
    "from keras.preprocessing import image\n",
    "\n",
    "from sklearn.metrics import accuracy_score, confusion_matrix, plot_confusion_matrix\n",
    "from sklearn.model_selection import train_test_split"
   ]
  },
  {
   "cell_type": "markdown",
   "metadata": {},
   "source": [
    "# Preprocessing Functions"
   ]
  },
  {
   "cell_type": "code",
   "execution_count": 2,
   "metadata": {},
   "outputs": [],
   "source": [
    "def prepare_image(img_path):\n",
    "    img = image.load_img(img_path, target_size=(224, 224))\n",
    "    x = image.img_to_array(img)\n",
    "    x = np.expand_dims(x, axis=0)\n",
    "    x = mobilenet_v2.preprocess_input(x)\n",
    "    return x"
   ]
  },
  {
   "cell_type": "markdown",
   "metadata": {},
   "source": [
    "# Classification Models"
   ]
  },
  {
   "cell_type": "markdown",
   "metadata": {},
   "source": [
    "## Binary Classification"
   ]
  },
  {
   "cell_type": "code",
   "execution_count": 3,
   "metadata": {},
   "outputs": [],
   "source": [
    "directory_rwbb = 'data/CUB_200_2011/images/010.Red_winged_Blackbird/'\n",
    "directory_cww = 'data/CUB_200_2011/images/186.Cedar_Waxwing/'\n",
    "\n",
    "rwbbs = []\n",
    "cwws = []\n",
    "y2 = np.array(([1]*60) + ([0]*60))\n",
    "\n",
    "\n",
    "for filename in os.listdir(directory_rwbb):\n",
    "    if filename.endswith(\".jpg\"):\n",
    "        filename = directory_rwbb + filename\n",
    "        #print(filename)\n",
    "        rwbbs.append(prepare_image(filename).reshape(224,224,3))\n",
    "        \n",
    "for filename in os.listdir(directory_cww):\n",
    "    if filename.endswith(\".jpg\"):\n",
    "        filename = directory_cww + filename\n",
    "        #print(filename)\n",
    "        cwws.append(prepare_image(filename).reshape(224,224,3))\n",
    "        \n",
    "x2 = np.array(rwbbs + cwws)"
   ]
  },
  {
   "cell_type": "code",
   "execution_count": 4,
   "metadata": {},
   "outputs": [],
   "source": [
    "X_train, X_test, y_train, y_test = (train_test_split(x2, y2, \n",
    "                                                     test_size = .2, random_state = 23))"
   ]
  },
  {
   "cell_type": "code",
   "execution_count": 5,
   "metadata": {
    "scrolled": false
   },
   "outputs": [
    {
     "name": "stdout",
     "output_type": "stream",
     "text": [
      "Model: \"sequential\"\n",
      "_________________________________________________________________\n",
      "Layer (type)                 Output Shape              Param #   \n",
      "=================================================================\n",
      "conv2d (Conv2D)              (None, 224, 224, 10)      280       \n",
      "_________________________________________________________________\n",
      "max_pooling2d (MaxPooling2D) (None, 112, 112, 10)      0         \n",
      "_________________________________________________________________\n",
      "conv2d_1 (Conv2D)            (None, 112, 112, 25)      2275      \n",
      "_________________________________________________________________\n",
      "max_pooling2d_1 (MaxPooling2 (None, 56, 56, 25)        0         \n",
      "_________________________________________________________________\n",
      "conv2d_2 (Conv2D)            (None, 56, 56, 50)        11300     \n",
      "_________________________________________________________________\n",
      "flatten (Flatten)            (None, 156800)            0         \n",
      "_________________________________________________________________\n",
      "dense (Dense)                (None, 30)                4704030   \n",
      "_________________________________________________________________\n",
      "dense_1 (Dense)              (None, 1)                 31        \n",
      "=================================================================\n",
      "Total params: 4,717,916\n",
      "Trainable params: 4,717,916\n",
      "Non-trainable params: 0\n",
      "_________________________________________________________________\n",
      "Epoch 1/10\n",
      "2/2 [==============================] - ETA: 0s - loss: 1.9066 - accuracy: 0.5625WARNING:tensorflow:Can save best model only with val_loss available, skipping.\n",
      "2/2 [==============================] - 1s 296ms/step - loss: 1.9066 - accuracy: 0.5625\n",
      "Epoch 2/10\n",
      "2/2 [==============================] - ETA: 0s - loss: 4.9428 - accuracy: 0.4688WARNING:tensorflow:Can save best model only with val_loss available, skipping.\n",
      "2/2 [==============================] - 1s 295ms/step - loss: 4.9428 - accuracy: 0.4688\n",
      "Epoch 3/10\n",
      "2/2 [==============================] - ETA: 0s - loss: 0.6863 - accuracy: 0.7500WARNING:tensorflow:Can save best model only with val_loss available, skipping.\n",
      "2/2 [==============================] - 1s 294ms/step - loss: 0.6863 - accuracy: 0.7500\n",
      "Epoch 4/10\n",
      "2/2 [==============================] - ETA: 0s - loss: 1.0524 - accuracy: 0.5938WARNING:tensorflow:Can save best model only with val_loss available, skipping.\n",
      "2/2 [==============================] - 1s 348ms/step - loss: 1.0524 - accuracy: 0.5938\n",
      "Epoch 5/10\n",
      "2/2 [==============================] - ETA: 0s - loss: 0.5184 - accuracy: 0.7604WARNING:tensorflow:Can save best model only with val_loss available, skipping.\n",
      "2/2 [==============================] - 1s 429ms/step - loss: 0.5184 - accuracy: 0.7604\n",
      "Epoch 6/10\n",
      "2/2 [==============================] - ETA: 0s - loss: 0.3213 - accuracy: 0.8646WARNING:tensorflow:Can save best model only with val_loss available, skipping.\n",
      "2/2 [==============================] - 1s 297ms/step - loss: 0.3213 - accuracy: 0.8646\n",
      "Epoch 7/10\n",
      "2/2 [==============================] - ETA: 0s - loss: 0.3031 - accuracy: 0.9479WARNING:tensorflow:Can save best model only with val_loss available, skipping.\n",
      "2/2 [==============================] - 1s 295ms/step - loss: 0.3031 - accuracy: 0.9479\n",
      "Epoch 8/10\n",
      "2/2 [==============================] - ETA: 0s - loss: 0.2574 - accuracy: 0.9583WARNING:tensorflow:Can save best model only with val_loss available, skipping.\n",
      "2/2 [==============================] - 1s 291ms/step - loss: 0.2574 - accuracy: 0.9583\n",
      "Epoch 9/10\n",
      "2/2 [==============================] - ETA: 0s - loss: 0.1923 - accuracy: 0.9896WARNING:tensorflow:Can save best model only with val_loss available, skipping.\n",
      "2/2 [==============================] - 1s 295ms/step - loss: 0.1923 - accuracy: 0.9896\n",
      "Epoch 10/10\n",
      "2/2 [==============================] - ETA: 0s - loss: 0.1429 - accuracy: 0.9583WARNING:tensorflow:Can save best model only with val_loss available, skipping.\n",
      "2/2 [==============================] - 1s 291ms/step - loss: 0.1429 - accuracy: 0.9583\n"
     ]
    },
    {
     "data": {
      "text/plain": [
       "<tensorflow.python.keras.callbacks.History at 0x7fc346eb9b20>"
      ]
     },
     "execution_count": 5,
     "metadata": {},
     "output_type": "execute_result"
    }
   ],
   "source": [
    "# Simple CNN classifier comparing only 2 species (redwing blackbird and cedar waxwing)\n",
    "NN = Sequential()\n",
    "\n",
    "NN.add(InputLayer(input_shape=X_train.shape[1:]))\n",
    "\n",
    "# Convolutional block 1\n",
    "NN.add(Conv2D(filters=10, kernel_size=3, activation='relu', padding='same'))\n",
    "# NN.add(Conv2D(filters=16, kernel_size=3, activation='relu', padding='same'))\n",
    "NN.add(MaxPooling2D())\n",
    "\n",
    "# Convolutional block 2\n",
    "NN.add(Conv2D(filters=25, kernel_size=3, activation='relu', padding='same'))\n",
    "# NN.add(Conv2D(filters=16, kernel_size=3, activation='relu', padding='same'))\n",
    "NN.add(MaxPooling2D())\n",
    "\n",
    "# Convolutional block 3\n",
    "NN.add(Conv2D(filters=50, kernel_size=3, activation='relu', padding='same'))\n",
    "\n",
    "# Fully connected block\n",
    "NN.add(Flatten())\n",
    "NN.add(Dense(30, activation='relu'))\n",
    "NN.add(Dense(1, activation='sigmoid'))  # sigmoid for binary, softmax(?) for multiclass\n",
    "\n",
    "NN.compile(\n",
    "    loss='binary_crossentropy',\n",
    "    optimizer='adam',\n",
    "    metrics=['accuracy'],\n",
    ")\n",
    "NN.summary()\n",
    "NN.fit(X_train, y_train,\n",
    "       epochs=10,\n",
    "       batch_size = 50,\n",
    "       verbose=1, #validation_split=0.25,\n",
    "       callbacks=[\n",
    "           keras.callbacks.ModelCheckpoint(\n",
    "               'models/rwbb_cww_1.hdf5',\n",
    "               save_best_only=True)\n",
    "       ])  # track fit progress"
   ]
  },
  {
   "cell_type": "code",
   "execution_count": 6,
   "metadata": {
    "scrolled": true
   },
   "outputs": [
    {
     "name": "stdout",
     "output_type": "stream",
     "text": [
      "WARNING:tensorflow:From <ipython-input-6-3a56d8be9936>:1: Sequential.predict_classes (from tensorflow.python.keras.engine.sequential) is deprecated and will be removed after 2021-01-01.\n",
      "Instructions for updating:\n",
      "Please use instead:* `np.argmax(model.predict(x), axis=-1)`,   if your model does multi-class classification   (e.g. if it uses a `softmax` last-layer activation).* `(model.predict(x) > 0.5).astype(\"int32\")`,   if your model does binary classification   (e.g. if it uses a `sigmoid` last-layer activation).\n"
     ]
    },
    {
     "data": {
      "text/plain": [
       "0.6666666666666666"
      ]
     },
     "execution_count": 6,
     "metadata": {},
     "output_type": "execute_result"
    }
   ],
   "source": [
    "accuracy_score(y_test, NN.predict_classes(X_test))"
   ]
  },
  {
   "cell_type": "markdown",
   "metadata": {},
   "source": [
    "## Multiclass Classification"
   ]
  },
  {
   "cell_type": "code",
   "execution_count": 7,
   "metadata": {},
   "outputs": [],
   "source": [
    "import os\n",
    "\n",
    "# organize bird images to be classified\n",
    "bird_directories = []\n",
    "directory_rwbb = 'data/CUB_200_2011/images/010.Red_winged_Blackbird/'\n",
    "bird_directories.append(directory_rwbb)\n",
    "directory_cww = 'data/CUB_200_2011/images/186.Cedar_Waxwing/'\n",
    "bird_directories.append(directory_cww)\n",
    "directory_gcb = 'data/CUB_200_2011/images/019.Gray_Catbird/'\n",
    "bird_directories.append(directory_gcb)\n",
    "directory_dwp = 'data/CUB_200_2011/images/192.Downy_Woodpecker/'\n",
    "bird_directories.append(directory_dwp)\n",
    "\n",
    "\n",
    "rwbbs = []\n",
    "cwws = []\n",
    "gcbs = []\n",
    "dwps = []\n",
    "y = []\n",
    "x = []\n",
    "\n",
    "image_dict = defaultdict(list)\n",
    "\n",
    "#add images and labels for each species to x and y variables\n",
    "for idx, directory in enumerate(bird_directories):\n",
    "\n",
    "    for filename in os.listdir(directory):\n",
    "        if filename.endswith(\".jpg\"):\n",
    "            filename = directory + filename\n",
    "            image_dict[directory].append(prepare_image(filename).reshape(224,224,3))\n",
    "            x.append(prepare_image(filename).reshape(224,224,3))\n",
    "            y.append(idx)\n",
    "        \n",
    "x = np.array(x)\n",
    "y = np.array(y)"
   ]
  },
  {
   "cell_type": "code",
   "execution_count": 8,
   "metadata": {},
   "outputs": [],
   "source": [
    "X_train, X_test, y_train, y_test = (train_test_split(x, y, \n",
    "                                                     test_size = .2, random_state = 25))\n",
    "y_train = to_categorical(y_train)\n",
    "y_test = to_categorical(y_test)"
   ]
  },
  {
   "cell_type": "code",
   "execution_count": 9,
   "metadata": {
    "scrolled": true
   },
   "outputs": [
    {
     "name": "stdout",
     "output_type": "stream",
     "text": [
      "Model: \"sequential_1\"\n",
      "_________________________________________________________________\n",
      "Layer (type)                 Output Shape              Param #   \n",
      "=================================================================\n",
      "conv2d_3 (Conv2D)            (None, 224, 224, 10)      280       \n",
      "_________________________________________________________________\n",
      "max_pooling2d_2 (MaxPooling2 (None, 112, 112, 10)      0         \n",
      "_________________________________________________________________\n",
      "conv2d_4 (Conv2D)            (None, 112, 112, 25)      2275      \n",
      "_________________________________________________________________\n",
      "max_pooling2d_3 (MaxPooling2 (None, 56, 56, 25)        0         \n",
      "_________________________________________________________________\n",
      "conv2d_5 (Conv2D)            (None, 56, 56, 50)        11300     \n",
      "_________________________________________________________________\n",
      "global_average_pooling2d (Gl (None, 50)                0         \n",
      "_________________________________________________________________\n",
      "dense_2 (Dense)              (None, 20)                1020      \n",
      "_________________________________________________________________\n",
      "dense_3 (Dense)              (None, 4)                 84        \n",
      "=================================================================\n",
      "Total params: 14,959\n",
      "Trainable params: 14,959\n",
      "Non-trainable params: 0\n",
      "_________________________________________________________________\n",
      "Epoch 1/5\n",
      "6/6 [==============================] - ETA: 0s - loss: 1.3863 - accuracy: 0.2618WARNING:tensorflow:Can save best model only with val_loss available, skipping.\n",
      "6/6 [==============================] - 2s 331ms/step - loss: 1.3863 - accuracy: 0.2618\n",
      "Epoch 2/5\n",
      "6/6 [==============================] - ETA: 0s - loss: 1.3618 - accuracy: 0.2984WARNING:tensorflow:Can save best model only with val_loss available, skipping.\n",
      "6/6 [==============================] - 2s 307ms/step - loss: 1.3618 - accuracy: 0.2984\n",
      "Epoch 3/5\n",
      "6/6 [==============================] - ETA: 0s - loss: 1.3388 - accuracy: 0.3717WARNING:tensorflow:Can save best model only with val_loss available, skipping.\n",
      "6/6 [==============================] - 2s 308ms/step - loss: 1.3388 - accuracy: 0.3717\n",
      "Epoch 4/5\n",
      "6/6 [==============================] - ETA: 0s - loss: 1.3113 - accuracy: 0.4346WARNING:tensorflow:Can save best model only with val_loss available, skipping.\n",
      "6/6 [==============================] - 2s 315ms/step - loss: 1.3113 - accuracy: 0.4346\n",
      "Epoch 5/5\n",
      "6/6 [==============================] - ETA: 0s - loss: 1.2787 - accuracy: 0.4346WARNING:tensorflow:Can save best model only with val_loss available, skipping.\n",
      "6/6 [==============================] - 2s 336ms/step - loss: 1.2787 - accuracy: 0.4346\n"
     ]
    },
    {
     "data": {
      "text/plain": [
       "<tensorflow.python.keras.callbacks.History at 0x7fc2cacd8e50>"
      ]
     },
     "execution_count": 9,
     "metadata": {},
     "output_type": "execute_result"
    }
   ],
   "source": [
    "# Simple CNN classifier - multiclass\n",
    "NNmulti = Sequential()\n",
    "\n",
    "NNmulti.add(InputLayer(input_shape=X_train.shape[1:]))\n",
    "\n",
    "# Convolutional block 1\n",
    "NNmulti.add(Conv2D(filters=10, kernel_size=3, activation='relu', padding='same'))\n",
    "NNmulti.add(MaxPooling2D())\n",
    "\n",
    "# Convolutional block 2\n",
    "NNmulti.add(Conv2D(filters=25, kernel_size=3, activation='relu', padding='same'))\n",
    "NNmulti.add(MaxPooling2D())\n",
    "\n",
    "# Convolutional block 3\n",
    "NNmulti.add(Conv2D(filters=50, kernel_size=3, activation='relu', padding='same'))\n",
    "\n",
    "# Fully connected block - global pooling followed by dense and output layers\n",
    "NNmulti.add(GlobalAveragePooling2D())\n",
    "NNmulti.add(Dense(20, activation='relu'))\n",
    "NNmulti.add(Dense(4, activation='softmax'))  # softmax for multiclass\n",
    "\n",
    "NNmulti.compile(\n",
    "    loss='categorical_crossentropy',\n",
    "    optimizer='adam',\n",
    "    metrics=['accuracy'],\n",
    ")\n",
    "NNmulti.summary()\n",
    "NNmulti.fit(X_train, y_train, epochs=5, verbose=1, #validation_split=0.25,\n",
    "       callbacks=[\n",
    "           keras.callbacks.ModelCheckpoint(\n",
    "               'models/rwbb_cww_gcb.hdf5',\n",
    "               save_best_only=True)\n",
    "       ])  # track fit progress\n"
   ]
  },
  {
   "cell_type": "code",
   "execution_count": 10,
   "metadata": {},
   "outputs": [
    {
     "data": {
      "text/plain": [
       "0.3333333333333333"
      ]
     },
     "execution_count": 10,
     "metadata": {},
     "output_type": "execute_result"
    }
   ],
   "source": [
    "accuracy_score(np.argmax(y_test, axis=1), np.argmax(NNmulti.predict(X_test),axis=1))"
   ]
  },
  {
   "cell_type": "markdown",
   "metadata": {},
   "source": [
    "Not very good at all considering 0.25 would be as good as guessing. There are probably many other incremental improvements that could be made to this model, but I'm guessing I won't see significant improvements until I incorporate transfer learning."
   ]
  },
  {
   "cell_type": "markdown",
   "metadata": {},
   "source": [
    "### Transfer Learning"
   ]
  },
  {
   "cell_type": "markdown",
   "metadata": {},
   "source": [
    "#### MobileNetV2"
   ]
  },
  {
   "cell_type": "code",
   "execution_count": 11,
   "metadata": {},
   "outputs": [],
   "source": [
    "#Start with pre-trained base minus top layer\n",
    "base_model = mobilenet_v2.MobileNetV2(weights='imagenet',\n",
    "                                      include_top=False, input_shape=(224,224,3)\n",
    "                                     ) \n",
    " \n",
    "#Freeze convolutional layers\n",
    "for layer in base_model.layers:\n",
    "    layer.trainable = False    \n",
    "\n",
    "#New fully connected block\n",
    "x = base_model.output\n",
    "x = Flatten()(x)\n",
    "x = Dense(100, activation='relu')(x)\n",
    "x = Dense(50, activation='relu')(x)\n",
    "predictions = Dense(4, activation='softmax')(x) #first dense() parameter should match number of output classes\n",
    "\n",
    "#Create new model combining base_model and custom fully connected block\n",
    "model = Model(inputs=base_model.input, outputs=predictions)\n",
    "model.compile(optimizer='adam', loss='categorical_crossentropy', metrics=['accuracy'])"
   ]
  },
  {
   "cell_type": "code",
   "execution_count": 12,
   "metadata": {
    "scrolled": true
   },
   "outputs": [
    {
     "name": "stdout",
     "output_type": "stream",
     "text": [
      "6/6 [==============================] - 3s 525ms/step - loss: 2.6139 - accuracy: 0.6649\n"
     ]
    },
    {
     "data": {
      "text/plain": [
       "<tensorflow.python.keras.callbacks.History at 0x7fc2cdf5d340>"
      ]
     },
     "execution_count": 12,
     "metadata": {},
     "output_type": "execute_result"
    }
   ],
   "source": [
    "model.fit(X_train, y_train)"
   ]
  },
  {
   "cell_type": "code",
   "execution_count": 13,
   "metadata": {},
   "outputs": [
    {
     "name": "stdout",
     "output_type": "stream",
     "text": [
      "0.9057591623036649\n",
      "0.875\n"
     ]
    }
   ],
   "source": [
    "print(accuracy_score(np.argmax(y_train,axis=-1), np.argmax(model.predict(X_train), axis=-1)))\n",
    "print(accuracy_score(np.argmax(y_test,axis=-1), np.argmax(model.predict(X_test), axis=-1)))"
   ]
  },
  {
   "cell_type": "markdown",
   "metadata": {},
   "source": [
    "Remarkably better right off the bat."
   ]
  },
  {
   "cell_type": "markdown",
   "metadata": {},
   "source": [
    "#### MobileNetV2 Classifying by 'Type'"
   ]
  },
  {
   "cell_type": "markdown",
   "metadata": {},
   "source": [
    "36 species is quite a lot. Before tackling that, I'll try to see how well I can classify between \"types\", where \"types\" are superclasses I made by combining similar species. Depending on how much better the accuracy score is, this might be a more useful model as far as sorting my photos goes."
   ]
  },
  {
   "cell_type": "code",
   "execution_count": 15,
   "metadata": {},
   "outputs": [],
   "source": [
    "# organize bird images to be classified\n",
    "types_list = ['catbirds','crows','hummingbirds','ravens','sparrows','terns','woodpeckers','wrens']\n",
    "root_folder = '../../Desktop/birdup/birds_by_type/'\n",
    "bird_directories = []\n",
    "directory_catbirds = root_folder + types_list[0] + '/'\n",
    "bird_directories.append(directory_catbirds)\n",
    "directory_crows = root_folder + types_list[1] + '/'\n",
    "bird_directories.append(directory_crows)\n",
    "directory_hummingbirds = root_folder + types_list[2] + '/'\n",
    "bird_directories.append(directory_hummingbirds)\n",
    "directory_ravens = root_folder + types_list[3] + '/'\n",
    "bird_directories.append(directory_ravens)\n",
    "directory_sparrows = root_folder + types_list[4] + '/'\n",
    "bird_directories.append(directory_sparrows)\n",
    "directory_terns = root_folder + types_list[5] + '/'\n",
    "bird_directories.append(directory_terns)\n",
    "directory_woodpeckers = root_folder + types_list[6] + '/'\n",
    "bird_directories.append(directory_woodpeckers)\n",
    "directory_wrens = root_folder + types_list[7] + '/'\n",
    "bird_directories.append(directory_wrens)\n",
    "\n",
    "\n",
    "#catbirds = []\n",
    "#crows = []\n",
    "#hummingbirds = []\n",
    "#ravens = []\n",
    "#sparrows = []\n",
    "#terns = []\n",
    "#woodpeckers = []\n",
    "#wrens = []\n",
    "y = []\n",
    "x = []\n",
    "\n",
    "image_dict = defaultdict(list)\n",
    "\n",
    "#add images and labels for each species to x and y variables\n",
    "for idx, directory in enumerate(bird_directories):\n",
    "\n",
    "    for filename in os.listdir(directory):\n",
    "        if filename.endswith(\".jpg\"):\n",
    "            filename = directory + filename\n",
    "            image_dict[directory].append(prepare_image(filename).reshape(224,224,3))\n",
    "            x.append(prepare_image(filename).reshape(224,224,3))\n",
    "            y.append(idx)\n",
    "        \n",
    "x = np.array(x)\n",
    "y = np.array(y)"
   ]
  },
  {
   "cell_type": "markdown",
   "metadata": {},
   "source": [
    "No need to include modeling blocks after here. If you wish to use the \"types\" classifier, skip ahead to the train-test split."
   ]
  },
  {
   "cell_type": "markdown",
   "metadata": {},
   "source": [
    "#### MobileNetV2 Classifying by Species"
   ]
  },
  {
   "cell_type": "markdown",
   "metadata": {},
   "source": [
    "After regularly hitting ~90% on the \"types\" classification, it is time to move on to the real goal: a species-level classifier."
   ]
  },
  {
   "cell_type": "code",
   "execution_count": 20,
   "metadata": {},
   "outputs": [],
   "source": [
    "### DATA CONSTRUCTOR FOR FINAL MODEL\n",
    "# create x array of images and y array of labels from images in specified folder\n",
    "\n",
    "root_folder = '../../Desktop/birdup/birds_by_species/'\n",
    "\n",
    "y = []\n",
    "x = []\n",
    "y_labels = defaultdict(str)\n",
    "\n",
    "image_dict = defaultdict(list)\n",
    "\n",
    "for idx, folder in enumerate(os.listdir(root_folder)):\n",
    "    y_labels[idx] = folder[4:]\n",
    "    for file in os.listdir(root_folder + folder):\n",
    "        if file.endswith(\".jpg\"):\n",
    "            file = root_folder + folder + '/' + file\n",
    "            image_dict[folder].append(prepare_image(file).reshape(224,224,3))\n",
    "            x.append(prepare_image(file).reshape(224,224,3))\n",
    "            y.append(idx)\n",
    "            \n",
    "test_image = x[0]\n",
    "        \n",
    "x = np.array(x)\n",
    "y = np.array(y)\n"
   ]
  },
  {
   "cell_type": "code",
   "execution_count": 21,
   "metadata": {},
   "outputs": [],
   "source": [
    "#Train-test split \n",
    "X_train, X_test, y_train, y_test = (train_test_split(x, y, \n",
    "                                                     test_size = .2, random_state = 23))\n",
    "y_train = to_categorical(y_train)\n",
    "y_test = to_categorical(y_test)"
   ]
  },
  {
   "cell_type": "markdown",
   "metadata": {},
   "source": [
    "#### Final Model"
   ]
  },
  {
   "cell_type": "code",
   "execution_count": 22,
   "metadata": {},
   "outputs": [],
   "source": [
    "base_model = mobilenet_v2.MobileNetV2(weights='imagenet',\n",
    "                                      include_top=False, input_shape=(224,224,3)\n",
    "                                     ) \n",
    " \n",
    "#Freeze convolutional layers\n",
    "for layer in base_model.layers:\n",
    "    layer.trainable = False    \n",
    "\n",
    "#New fully connected block\n",
    "x = base_model.output\n",
    "x = Flatten()(x)\n",
    "x = Dense(100, activation='relu')(x)\n",
    "x = Dense(50, activation='relu')(x)\n",
    "predictions = Dense(36, activation='softmax')(x)\n",
    "\n",
    "# define formal model object to train and compile it as usual\n",
    "MNV2_model = Model(inputs=base_model.input, outputs=predictions)\n",
    "MNV2_model.compile(optimizer='adam', loss='categorical_crossentropy', metrics=['accuracy'])"
   ]
  },
  {
   "cell_type": "code",
   "execution_count": 23,
   "metadata": {},
   "outputs": [
    {
     "name": "stdout",
     "output_type": "stream",
     "text": [
      "Epoch 1/5\n",
      "54/54 [==============================] - 37s 679ms/step - loss: 3.4920 - accuracy: 0.1469\n",
      "Epoch 2/5\n",
      "54/54 [==============================] - 36s 661ms/step - loss: 1.7414 - accuracy: 0.4994\n",
      "Epoch 3/5\n",
      "54/54 [==============================] - 34s 626ms/step - loss: 0.7028 - accuracy: 0.7886\n",
      "Epoch 4/5\n",
      "54/54 [==============================] - 34s 627ms/step - loss: 0.2602 - accuracy: 0.9268\n",
      "Epoch 5/5\n",
      "54/54 [==============================] - 34s 621ms/step - loss: 0.1297 - accuracy: 0.9681\n",
      "0.9941927990708479\n",
      "0.6194895591647331\n"
     ]
    }
   ],
   "source": [
    "MNV2_model.fit(X_train, y_train, epochs=5, verbose=1)\n",
    "\n",
    "print(accuracy_score(np.argmax(y_train,axis=-1), np.argmax(MNV2_model.predict(X_train), axis=-1)))\n",
    "print(accuracy_score(np.argmax(y_test,axis=-1), np.argmax(MNV2_model.predict(X_test), axis=-1)))"
   ]
  },
  {
   "cell_type": "markdown",
   "metadata": {},
   "source": [
    "# Confusion Matrix"
   ]
  },
  {
   "cell_type": "code",
   "execution_count": 24,
   "metadata": {},
   "outputs": [
    {
     "data": {
      "image/png": "[encoded data removed]",
      "text/plain": [
       "<Figure size 1080x720 with 2 Axes>"
      ]
     },
     "metadata": {},
     "output_type": "display_data"
    }
   ],
   "source": [
    "cm = confusion_matrix(np.argmax(y_test,axis=-1), np.argmax(MNV2_model.predict(X_test), axis=-1))\n",
    "plt.figure(figsize=(15,10))\n",
    "sns.heatmap(cm, annot=True)\n",
    "plt.xlabel('Predicted')\n",
    "plt.ylabel('Actual')\n",
    "plt.show()"
   ]
  },
  {
   "cell_type": "markdown",
   "metadata": {},
   "source": [
    "# Save Final Model"
   ]
  },
  {
   "cell_type": "code",
   "execution_count": null,
   "metadata": {},
   "outputs": [],
   "source": [
    "#MNV2_model.save(\"MNV2_species\")"
   ]
  }
 ],
 "metadata": {
  "kernelspec": {
   "display_name": "Python 3",
   "language": "python",
   "name": "python3"
  },
  "language_info": {
   "codemirror_mode": {
    "name": "ipython",
    "version": 3
   },
   "file_extension": ".py",
   "mimetype": "text/x-python",
   "name": "python",
   "nbconvert_exporter": "python",
   "pygments_lexer": "ipython3",
   "version": "3.7.6"
  },
  "toc": {
   "base_numbering": 1,
   "nav_menu": {},
   "number_sections": true,
   "sideBar": true,
   "skip_h1_title": false,
   "title_cell": "Table of Contents",
   "title_sidebar": "Contents",
   "toc_cell": false,
   "toc_position": {
    "height": "calc(100% - 180px)",
    "left": "10px",
    "top": "150px",
    "width": "320px"
   },
   "toc_section_display": true,
   "toc_window_display": true
  },
  "varInspector": {
   "cols": {
    "lenName": 16,
    "lenType": 16,
    "lenVar": 40
   },
   "kernels_config": {
    "python": {
     "delete_cmd_postfix": "",
     "delete_cmd_prefix": "del ",
     "library": "var_list.py",
     "varRefreshCmd": "print(var_dic_list())"
    },
    "r": {
     "delete_cmd_postfix": ") ",
     "delete_cmd_prefix": "rm(",
     "library": "var_list.r",
     "varRefreshCmd": "cat(var_dic_list()) "
    }
   },
   "types_to_exclude": [
    "module",
    "function",
    "builtin_function_or_method",
    "instance",
    "_Feature"
   ],
   "window_display": false
  }
 },
 "nbformat": 4,
 "nbformat_minor": 4
}
