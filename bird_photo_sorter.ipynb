{
 "cells": [
  {
   "cell_type": "code",
   "execution_count": 33,
   "metadata": {},
   "outputs": [],
   "source": [
    "import pandas as pd\n",
    "import numpy as np\n",
    "import seaborn as sns\n",
    "sns.set_style('dark')\n",
    "import matplotlib.pyplot as plt\n",
    "import re\n",
    "import os\n",
    "import pickle\n",
    "import string\n",
    "import random\n",
    "from collections import defaultdict\n",
    "import cv2\n",
    "from keras.utils import np_utils, to_categorical\n",
    "#from PIL import Image\n",
    "\n",
    "import keras\n",
    "from keras.models import Model, Sequential\n",
    "from keras.layers import Dense, Conv2D, MaxPooling2D, Flatten, GlobalAveragePooling2D, InputLayer\n",
    "\n",
    "from sklearn.metrics import accuracy_score, confusion_matrix, plot_confusion_matrix\n",
    "from sklearn.model_selection import train_test_split"
   ]
  },
  {
   "cell_type": "code",
   "execution_count": 34,
   "metadata": {},
   "outputs": [],
   "source": [
    "### Code to create folders for each species\n",
    "# root_path = '/Users/willstith/Desktop/my_bird_pics/'\n",
    "# folders = []\n",
    "# for k, v in y_labels.items():\n",
    "#     folders.append(v)\n",
    "    \n",
    "# for folder in folders:\n",
    "#     os.mkdir(os.path.join(root_path,folder))"
   ]
  },
  {
   "cell_type": "code",
   "execution_count": 35,
   "metadata": {},
   "outputs": [],
   "source": [
    "from keras.applications import mobilenet_v2\n",
    "from keras.preprocessing import image\n",
    "\n",
    "def prepare_image(img_path):\n",
    "\n",
    "    img = image.load_img(img_path, target_size=(224, 224))\n",
    "    x = image.img_to_array(img)\n",
    "    x = np.expand_dims(x, axis=0)\n",
    "    x = mobilenet_v2.preprocess_input(x)\n",
    "    return x"
   ]
  },
  {
   "cell_type": "code",
   "execution_count": 36,
   "metadata": {},
   "outputs": [],
   "source": [
    "from keras.preprocessing.image import load_img\n",
    "from keras.preprocessing.image import img_to_array\n",
    "\n",
    "def predict(image_path):\n",
    "    \n",
    "    y_labels = {0: 'Dark_eyed_Junco',\n",
    "             1: 'Brown_Thrasher',\n",
    "             2: 'Common_Tern',\n",
    "             3: 'Chipping_Sparrow',\n",
    "             4: 'American_Crow',\n",
    "             5: 'Pileated_Woodpecker',\n",
    "             6: 'American_Goldfinch',\n",
    "             7: 'Red_bellied_Woodpecker',\n",
    "             8: 'Red_winged_Blackbird',\n",
    "             9: 'Cardinal',\n",
    "             10: 'Great_Crested_Flycatcher',\n",
    "             11: 'Forsters_Tern',\n",
    "             12: 'Common_Raven',\n",
    "             13: 'House_Wren',\n",
    "             14: 'Belted_Kingfisher',\n",
    "             15: 'Cedar_Waxwing',\n",
    "             16: 'White_breasted_Nuthatch',\n",
    "             17: 'House_Sparrow',\n",
    "             18: 'Scarlet_Tanager',\n",
    "             19: 'Red_headed_Woodpecker',\n",
    "             20: 'Downy_Woodpecker',\n",
    "             21: 'Indigo_Bunting',\n",
    "             22: 'Warbling_Vireo',\n",
    "             23: 'Rose_breasted_Grosbeak',\n",
    "             24: 'Barn_Swallow',\n",
    "             25: 'Ring_billed_Gull',\n",
    "             26: 'Gray_Catbird',\n",
    "             27: 'Song_Sparrow',\n",
    "             28: 'Northern_Flicker',\n",
    "             29: 'Baltimore_Oriole',\n",
    "             30: 'Blue_Jay',\n",
    "             31: 'Tree_Swallow',\n",
    "             32: 'White_crowned_Sparrow',\n",
    "             33: 'Rock_Wren',\n",
    "             34: 'Ruby_throated_Hummingbird',\n",
    "             35: 'Mallard'}\n",
    "    \n",
    "    #load previously trained and saved model\n",
    "    model = keras.models.load_model('first_streamlit_model/')\n",
    "    \n",
    "    #convert jpg file to numpy array for modeling\n",
    "    image = np.array(prepare_image(image_path).reshape(224,224,3))\n",
    "    image = np.expand_dims(image, axis=0)\n",
    "\n",
    "    # predict the probability across all output classes\n",
    "    yhat = model.predict(image)\n",
    "    \n",
    "    # return species name and probability for the most likely class\n",
    "    label = y_labels[np.argmax(yhat[0])]\n",
    "    label_prob = sorted(list(yhat[0]))[-1]\n",
    "    return (label, label_prob) "
   ]
  },
  {
   "cell_type": "code",
   "execution_count": 37,
   "metadata": {},
   "outputs": [],
   "source": [
    "def sort_image(path, file):\n",
    "    starting_folder = path + file\n",
    "    species = predict(starting_folder)[0]\n",
    "    destination = '/Users/willstith/Desktop/sorted_bird_pics/' + species + '/' + file\n",
    "    #'/'.join(starting_folder.split('/')[:-1]) + species\n",
    "    os.rename(starting_folder, destination)\n",
    "    print(destination)"
   ]
  },
  {
   "cell_type": "code",
   "execution_count": 40,
   "metadata": {
    "scrolled": true
   },
   "outputs": [
    {
     "name": "stdout",
     "output_type": "stream",
     "text": [
      "/Users/willstith/Desktop/sorted_bird_pics/Brown_Thrasher/DSC_0839.JPG\n",
      "DSC_0839.JPG\n",
      "/Users/willstith/Desktop/sorted_bird_pics/Blue_Jay/DSC_1111.JPG\n",
      "DSC_1111.JPG\n",
      "/Users/willstith/Desktop/sorted_bird_pics/Gray_Catbird/DSC_0168.JPG\n",
      "DSC_0168.JPG\n",
      "/Users/willstith/Desktop/sorted_bird_pics/Ruby_throated_Hummingbird/DSC_0258.JPG\n",
      "DSC_0258.JPG\n",
      "/Users/willstith/Desktop/sorted_bird_pics/Common_Tern/DSC_0887.JPG\n",
      "DSC_0887.JPG\n",
      "/Users/willstith/Desktop/sorted_bird_pics/Brown_Thrasher/DSC_1390.JPG\n",
      "DSC_1390.JPG\n",
      "/Users/willstith/Desktop/sorted_bird_pics/Red_winged_Blackbird/DSC_0398.JPG\n",
      "DSC_0398.JPG\n",
      "/Users/willstith/Desktop/sorted_bird_pics/White_breasted_Nuthatch/DSC_0172.JPG\n",
      "DSC_0172.JPG\n",
      "/Users/willstith/Desktop/sorted_bird_pics/Baltimore_Oriole/DSC_0214.JPG\n",
      "DSC_0214.JPG\n",
      "/Users/willstith/Desktop/sorted_bird_pics/Brown_Thrasher/DSC_0174.JPG\n",
      "DSC_0174.JPG\n"
     ]
    }
   ],
   "source": [
    "unsorted_folder = '/Users/willstith/Desktop/unsorted_bird_pics/'\n",
    "\n",
    "for idx, file in enumerate(os.listdir(unsorted_folder)):\n",
    "    \n",
    "    sort_image(unsorted_folder, file)\n",
    "    \n",
    "    print(file)"
   ]
  },
  {
   "cell_type": "code",
   "execution_count": null,
   "metadata": {},
   "outputs": [],
   "source": []
  }
 ],
 "metadata": {
  "kernelspec": {
   "display_name": "Python 3",
   "language": "python",
   "name": "python3"
  },
  "language_info": {
   "codemirror_mode": {
    "name": "ipython",
    "version": 3
   },
   "file_extension": ".py",
   "mimetype": "text/x-python",
   "name": "python",
   "nbconvert_exporter": "python",
   "pygments_lexer": "ipython3",
   "version": "3.7.6"
  },
  "toc": {
   "base_numbering": 1,
   "nav_menu": {},
   "number_sections": true,
   "sideBar": true,
   "skip_h1_title": false,
   "title_cell": "Table of Contents",
   "title_sidebar": "Contents",
   "toc_cell": false,
   "toc_position": {},
   "toc_section_display": true,
   "toc_window_display": false
  },
  "varInspector": {
   "cols": {
    "lenName": 16,
    "lenType": 16,
    "lenVar": 40
   },
   "kernels_config": {
    "python": {
     "delete_cmd_postfix": "",
     "delete_cmd_prefix": "del ",
     "library": "var_list.py",
     "varRefreshCmd": "print(var_dic_list())"
    },
    "r": {
     "delete_cmd_postfix": ") ",
     "delete_cmd_prefix": "rm(",
     "library": "var_list.r",
     "varRefreshCmd": "cat(var_dic_list()) "
    }
   },
   "types_to_exclude": [
    "module",
    "function",
    "builtin_function_or_method",
    "instance",
    "_Feature"
   ],
   "window_display": false
  }
 },
 "nbformat": 4,
 "nbformat_minor": 4
}
