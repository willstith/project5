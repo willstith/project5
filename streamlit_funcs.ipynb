{
 "cells": [
  {
   "cell_type": "markdown",
   "metadata": {},
   "source": [
    "# Imports"
   ]
  },
  {
   "cell_type": "code",
   "execution_count": 1,
   "metadata": {},
   "outputs": [],
   "source": [
    "import pandas as pd\n",
    "import numpy as np\n",
    "import matplotlib.pyplot as plt\n",
    "import re\n",
    "import os\n",
    "import pickle\n",
    "import string\n",
    "import random\n",
    "from collections import defaultdict\n",
    "import cv2\n",
    "from keras.utils import np_utils, to_categorical\n",
    "\n",
    "import keras\n",
    "from keras.models import Model, Sequential\n",
    "from keras.layers import Dense, Conv2D, MaxPooling2D, Flatten, GlobalAveragePooling2D, InputLayer\n",
    "\n",
    "from sklearn.metrics import accuracy_score\n",
    "from sklearn.model_selection import train_test_split"
   ]
  },
  {
   "cell_type": "code",
   "execution_count": 2,
   "metadata": {},
   "outputs": [],
   "source": [
    "from keras.applications import mobilenet_v2\n",
    "from keras.preprocessing import image\n",
    "\n",
    "def prepare_image(img_path):\n",
    "\n",
    "    img = image.load_img(img_path, target_size=(224, 224))\n",
    "    x = image.img_to_array(img)\n",
    "    x = np.expand_dims(x, axis=0)\n",
    "    x = mobilenet_v2.preprocess_input(x)\n",
    "    return x"
   ]
  },
  {
   "cell_type": "markdown",
   "metadata": {},
   "source": [
    "# Data Entry"
   ]
  },
  {
   "cell_type": "code",
   "execution_count": 3,
   "metadata": {},
   "outputs": [],
   "source": [
    "# organize bird images to be classified\n",
    "types_list = ['catbirds','crows','hummingbirds','ravens','sparrows','terns','woodpeckers','wrens']\n",
    "root_folder = '../../Desktop/birdup/birds_by_type/'\n",
    "bird_directories = []\n",
    "directory_catbirds = root_folder + types_list[0] + '/'\n",
    "bird_directories.append(directory_catbirds)\n",
    "directory_crows = root_folder + types_list[1] + '/'\n",
    "bird_directories.append(directory_crows)\n",
    "directory_hummingbirds = root_folder + types_list[2] + '/'\n",
    "bird_directories.append(directory_hummingbirds)\n",
    "directory_ravens = root_folder + types_list[3] + '/'\n",
    "bird_directories.append(directory_ravens)\n",
    "directory_sparrows = root_folder + types_list[4] + '/'\n",
    "bird_directories.append(directory_sparrows)\n",
    "directory_terns = root_folder + types_list[5] + '/'\n",
    "bird_directories.append(directory_terns)\n",
    "directory_woodpeckers = root_folder + types_list[6] + '/'\n",
    "bird_directories.append(directory_woodpeckers)\n",
    "directory_wrens = root_folder + types_list[7] + '/'\n",
    "bird_directories.append(directory_wrens)\n",
    "\n",
    "\n",
    "y = []\n",
    "x = []\n",
    "\n",
    "image_dict = defaultdict(list)\n",
    "\n",
    "#add images and labels for each species to x and y variables\n",
    "for idx, directory in enumerate(bird_directories):\n",
    "\n",
    "    for filename in os.listdir(directory):\n",
    "        if filename.endswith(\".jpg\"):\n",
    "            filename = directory + filename\n",
    "            image_dict[directory].append(prepare_image(filename).reshape(224,224,3))\n",
    "            x.append(prepare_image(filename).reshape(224,224,3))\n",
    "            y.append(idx)\n",
    "        \n",
    "x = np.array(x)\n",
    "y = np.array(y)"
   ]
  },
  {
   "cell_type": "code",
   "execution_count": 4,
   "metadata": {},
   "outputs": [],
   "source": [
    "X_train, X_test, y_train, y_test = (train_test_split(x, y, \n",
    "                                                     test_size = .2, random_state = 25))\n",
    "y_train = to_categorical(y_train)\n",
    "y_test = to_categorical(y_test)"
   ]
  },
  {
   "cell_type": "code",
   "execution_count": 5,
   "metadata": {},
   "outputs": [],
   "source": [
    "base_model = mobilenet_v2.MobileNetV2(weights='imagenet',\n",
    "                                      include_top=False, input_shape=(224,224,3)\n",
    "                                     ) \n",
    " \n",
    "# Freeze convolutional layers\n",
    "for layer in base_model.layers:\n",
    "    layer.trainable = False    \n",
    "\n",
    "# Establish new fully connected block\n",
    "x = base_model.output\n",
    "x = Flatten()(x) # flatten from convolution tensor output \n",
    "x = Dense(100, activation='relu')(x) # number of layers and units are hyperparameters, as usual\n",
    "x = Dense(50, activation='relu')(x)\n",
    "predictions = Dense(8, activation='softmax')(x) # should match # of classes predicted\n",
    "\n",
    "# define formal model object to train and compile it as usual\n",
    "model = Model(inputs=base_model.input, outputs=predictions)\n",
    "model.compile(optimizer='adam', loss='categorical_crossentropy', metrics=['accuracy'])"
   ]
  },
  {
   "cell_type": "code",
   "execution_count": 6,
   "metadata": {},
   "outputs": [
    {
     "name": "stdout",
     "output_type": "stream",
     "text": [
      "46/46 [==============================] - 28s 613ms/step - loss: 1.1785 - accuracy: 0.7439\n",
      "0.8872950819672131\n",
      "0.8555858310626703\n"
     ]
    }
   ],
   "source": [
    "model.fit(X_train, y_train)\n",
    "\n",
    "print(accuracy_score(np.argmax(y_train,axis=-1), np.argmax(model.predict(X_train), axis=-1)))\n",
    "print(accuracy_score(np.argmax(y_test,axis=-1), np.argmax(model.predict(X_test), axis=-1)))"
   ]
  },
  {
   "cell_type": "code",
   "execution_count": null,
   "metadata": {},
   "outputs": [],
   "source": [
    "import streamlit as st \n",
    "from PIL import Image\n",
    "from classify import predict\n",
    "from keras.preprocessing.image import load_img\n",
    "from keras.preprocessing.image import img_to_array\n",
    "\n",
    "st.title(\"Sort Your Bird Images\")\n",
    "\n",
    "uploaded_file = st.file_uploader(\"Choose an image...\", type=\"jpg\")\n",
    "if uploaded_file is not None:\n",
    "    image = Image.open(uploaded_file)\n",
    "    st.image(image, caption='Uploaded Image.', use_column_width=True)\n",
    "    st.write(\"\")\n",
    "    st.write(\"Classifying...\")\n",
    "    label = predict(uploaded_file)\n",
    "    st.write('%s (%.2f%%)' % (label[1], label[2]*100))\n"
   ]
  },
  {
   "cell_type": "code",
   "execution_count": 42,
   "metadata": {},
   "outputs": [],
   "source": [
    "from keras.preprocessing.image import load_img\n",
    "from keras.preprocessing.image import img_to_array\n",
    "\n",
    "def predict(image_path):\n",
    "    \n",
    "    y_labels = {0: 'Dark_eyed_Junco',\n",
    "             1: 'Brown_Thrasher',\n",
    "             2: 'Common_Tern',\n",
    "             3: 'Chipping_Sparrow',\n",
    "             4: 'American_Crow',\n",
    "             5: 'Pileated_Woodpecker',\n",
    "             6: 'American_Goldfinch',\n",
    "             7: 'Red_bellied_Woodpecker',\n",
    "             8: 'Red_winged_Blackbird',\n",
    "             9: 'Cardinal',\n",
    "             10: 'Great_Crested_Flycatcher',\n",
    "             11: 'Forsters_Tern',\n",
    "             12: 'Common_Raven',\n",
    "             13: 'House_Wren',\n",
    "             14: 'Belted_Kingfisher',\n",
    "             15: 'Cedar_Waxwing',\n",
    "             16: 'White_breasted_Nuthatch',\n",
    "             17: 'House_Sparrow',\n",
    "             18: 'Scarlet_Tanager',\n",
    "             19: 'Red_headed_Woodpecker',\n",
    "             20: 'Downy_Woodpecker',\n",
    "             21: 'Indigo_Bunting',\n",
    "             22: 'Warbling_Vireo',\n",
    "             23: 'Rose_breasted_Grosbeak',\n",
    "             24: 'Barn_Swallow',\n",
    "             25: 'Ring_billed_Gull',\n",
    "             26: 'Gray_Catbird',\n",
    "             27: 'Song_Sparrow',\n",
    "             28: 'Northern_Flicker',\n",
    "             29: 'Baltimore_Oriole',\n",
    "             30: 'Blue_Jay',\n",
    "             31: 'Tree_Swallow',\n",
    "             32: 'White_crowned_Sparrow',\n",
    "             33: 'Rock_Wren',\n",
    "             34: 'Ruby_throated_Hummingbird',\n",
    "             35: 'Mallard'}\n",
    "    \n",
    "    #load previously trained and saved model\n",
    "    model = keras.models.load_model('first_streamlit_model/')\n",
    "    \n",
    "    #convert jpg file to numpy array for modeling\n",
    "    image = np.array(prepare_image(image_path).reshape(224,224,3))\n",
    "    image = np.expand_dims(image, axis=0)\n",
    "\n",
    "    # predict the probability across all output classes\n",
    "    yhat = model.predict(image)\n",
    "    \n",
    "    # return species name and probability for the most likely class\n",
    "    label = y_labels[np.argmax(yhat[0])]\n",
    "    label_prob = sorted(list(yhat[0]))[-1]\n",
    "    return (label, label_prob) "
   ]
  },
  {
   "cell_type": "code",
   "execution_count": 1,
   "metadata": {},
   "outputs": [],
   "source": [
    "from keras.applications import mobilenet_v2\n",
    "from keras.preprocessing import image\n",
    "\n",
    "def prepare_image(img_path):\n",
    "\n",
    "    img = image.load_img(img_path, target_size=(224, 224))\n",
    "    x = image.img_to_array(img)\n",
    "    x = np.expand_dims(x, axis=0)\n",
    "    x = mobilenet_v2.preprocess_input(x)\n",
    "    return x"
   ]
  },
  {
   "cell_type": "code",
   "execution_count": 44,
   "metadata": {},
   "outputs": [
    {
     "data": {
      "text/plain": [
       "('Red_winged_Blackbird', 1.0)"
      ]
     },
     "execution_count": 44,
     "metadata": {},
     "output_type": "execute_result"
    }
   ],
   "source": [
    "predict('data/CUB_200_2011/images/010.Red_winged_Blackbird/Red_Winged_Blackbird_0020_4050.jpg')"
   ]
  },
  {
   "cell_type": "code",
   "execution_count": 2,
   "metadata": {},
   "outputs": [],
   "source": [
    "img = image.load_img('data/CUB_200_2011/images/010.Red_winged_Blackbird/Red_Winged_Blackbird_0020_4050.jpg', target_size=(224, 224))"
   ]
  },
  {
   "cell_type": "code",
   "execution_count": 3,
   "metadata": {},
   "outputs": [
    {
     "data": {
      "text/plain": [
       "PIL.Image.Image"
      ]
     },
     "execution_count": 3,
     "metadata": {},
     "output_type": "execute_result"
    }
   ],
   "source": [
    "type(img)"
   ]
  },
  {
   "cell_type": "code",
   "execution_count": null,
   "metadata": {},
   "outputs": [],
   "source": []
  }
 ],
 "metadata": {
  "kernelspec": {
   "display_name": "Python [conda env:metis] *",
   "language": "python",
   "name": "conda-env-metis-py"
  },
  "language_info": {
   "codemirror_mode": {
    "name": "ipython",
    "version": 3
   },
   "file_extension": ".py",
   "mimetype": "text/x-python",
   "name": "python",
   "nbconvert_exporter": "python",
   "pygments_lexer": "ipython3",
   "version": "3.8.3"
  },
  "toc": {
   "base_numbering": 1,
   "nav_menu": {},
   "number_sections": true,
   "sideBar": true,
   "skip_h1_title": false,
   "title_cell": "Table of Contents",
   "title_sidebar": "Contents",
   "toc_cell": false,
   "toc_position": {},
   "toc_section_display": true,
   "toc_window_display": false
  },
  "varInspector": {
   "cols": {
    "lenName": 16,
    "lenType": 16,
    "lenVar": 40
   },
   "kernels_config": {
    "python": {
     "delete_cmd_postfix": "",
     "delete_cmd_prefix": "del ",
     "library": "var_list.py",
     "varRefreshCmd": "print(var_dic_list())"
    },
    "r": {
     "delete_cmd_postfix": ") ",
     "delete_cmd_prefix": "rm(",
     "library": "var_list.r",
     "varRefreshCmd": "cat(var_dic_list()) "
    }
   },
   "types_to_exclude": [
    "module",
    "function",
    "builtin_function_or_method",
    "instance",
    "_Feature"
   ],
   "window_display": false
  }
 },
 "nbformat": 4,
 "nbformat_minor": 4
}
